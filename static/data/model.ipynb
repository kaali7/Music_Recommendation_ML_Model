{
 "cells": [
  {
   "cell_type": "markdown",
   "metadata": {},
   "source": [
    "# **Analysis The Music Data**"
   ]
  },
  {
   "cell_type": "code",
   "execution_count": 2,
   "metadata": {},
   "outputs": [],
   "source": [
    "import pandas as pd\n",
    "import numpy as np\n",
    "import seaborn as sns\n",
    "import matplotlib.pyplot as plt\n",
    "import warnings\n",
    "\n",
    "warnings.filterwarnings('ignore')"
   ]
  },
  {
   "cell_type": "code",
   "execution_count": 3,
   "metadata": {},
   "outputs": [],
   "source": [
    "music = pd.read_csv(\"Music Info.csv\")"
   ]
  },
  {
   "cell_type": "code",
   "execution_count": 4,
   "metadata": {},
   "outputs": [
    {
     "data": {
      "text/html": [
       "<div>\n",
       "<style scoped>\n",
       "    .dataframe tbody tr th:only-of-type {\n",
       "        vertical-align: middle;\n",
       "    }\n",
       "\n",
       "    .dataframe tbody tr th {\n",
       "        vertical-align: top;\n",
       "    }\n",
       "\n",
       "    .dataframe thead th {\n",
       "        text-align: right;\n",
       "    }\n",
       "</style>\n",
       "<table border=\"1\" class=\"dataframe\">\n",
       "  <thead>\n",
       "    <tr style=\"text-align: right;\">\n",
       "      <th></th>\n",
       "      <th>track_id</th>\n",
       "      <th>name</th>\n",
       "      <th>artist</th>\n",
       "      <th>spotify_preview_url</th>\n",
       "      <th>spotify_id</th>\n",
       "      <th>tags</th>\n",
       "      <th>genre</th>\n",
       "      <th>year</th>\n",
       "      <th>duration_ms</th>\n",
       "      <th>danceability</th>\n",
       "      <th>...</th>\n",
       "      <th>key</th>\n",
       "      <th>loudness</th>\n",
       "      <th>mode</th>\n",
       "      <th>speechiness</th>\n",
       "      <th>acousticness</th>\n",
       "      <th>instrumentalness</th>\n",
       "      <th>liveness</th>\n",
       "      <th>valence</th>\n",
       "      <th>tempo</th>\n",
       "      <th>time_signature</th>\n",
       "    </tr>\n",
       "  </thead>\n",
       "  <tbody>\n",
       "    <tr>\n",
       "      <th>0</th>\n",
       "      <td>TRIOREW128F424EAF0</td>\n",
       "      <td>Mr. Brightside</td>\n",
       "      <td>The Killers</td>\n",
       "      <td>https://p.scdn.co/mp3-preview/4d26180e6961fd46866cd9106936ea55dfcbaa75?cid=774b29d4f13844c495f206cafdad9c86</td>\n",
       "      <td>09ZQ5TmUG8TSL56n0knqrj</td>\n",
       "      <td>rock, alternative, indie, alternative_rock, indie_rock, 00s</td>\n",
       "      <td>NaN</td>\n",
       "      <td>2004</td>\n",
       "      <td>222200</td>\n",
       "      <td>0.355</td>\n",
       "      <td>...</td>\n",
       "      <td>1</td>\n",
       "      <td>-4.360</td>\n",
       "      <td>1</td>\n",
       "      <td>0.0746</td>\n",
       "      <td>0.001190</td>\n",
       "      <td>0.0</td>\n",
       "      <td>0.0971</td>\n",
       "      <td>0.240</td>\n",
       "      <td>148.114</td>\n",
       "      <td>4</td>\n",
       "    </tr>\n",
       "    <tr>\n",
       "      <th>1</th>\n",
       "      <td>TRRIVDJ128F429B0E8</td>\n",
       "      <td>Wonderwall</td>\n",
       "      <td>Oasis</td>\n",
       "      <td>https://p.scdn.co/mp3-preview/d012e536916c927bd6c8ced0dae75ee3b7715983?cid=774b29d4f13844c495f206cafdad9c86</td>\n",
       "      <td>06UfBBDISthj1ZJAtX4xjj</td>\n",
       "      <td>rock, alternative, indie, pop, alternative_rock, british, 90s, love, britpop</td>\n",
       "      <td>NaN</td>\n",
       "      <td>2006</td>\n",
       "      <td>258613</td>\n",
       "      <td>0.409</td>\n",
       "      <td>...</td>\n",
       "      <td>2</td>\n",
       "      <td>-4.373</td>\n",
       "      <td>1</td>\n",
       "      <td>0.0336</td>\n",
       "      <td>0.000807</td>\n",
       "      <td>0.0</td>\n",
       "      <td>0.2070</td>\n",
       "      <td>0.651</td>\n",
       "      <td>174.426</td>\n",
       "      <td>4</td>\n",
       "    </tr>\n",
       "  </tbody>\n",
       "</table>\n",
       "<p>2 rows × 21 columns</p>\n",
       "</div>"
      ],
      "text/plain": [
       "             track_id            name       artist  \\\n",
       "0  TRIOREW128F424EAF0  Mr. Brightside  The Killers   \n",
       "1  TRRIVDJ128F429B0E8      Wonderwall        Oasis   \n",
       "\n",
       "                                                                                           spotify_preview_url  \\\n",
       "0  https://p.scdn.co/mp3-preview/4d26180e6961fd46866cd9106936ea55dfcbaa75?cid=774b29d4f13844c495f206cafdad9c86   \n",
       "1  https://p.scdn.co/mp3-preview/d012e536916c927bd6c8ced0dae75ee3b7715983?cid=774b29d4f13844c495f206cafdad9c86   \n",
       "\n",
       "               spotify_id  \\\n",
       "0  09ZQ5TmUG8TSL56n0knqrj   \n",
       "1  06UfBBDISthj1ZJAtX4xjj   \n",
       "\n",
       "                                                                           tags  \\\n",
       "0                   rock, alternative, indie, alternative_rock, indie_rock, 00s   \n",
       "1  rock, alternative, indie, pop, alternative_rock, british, 90s, love, britpop   \n",
       "\n",
       "  genre  year  duration_ms  danceability  ...  key  loudness  mode  \\\n",
       "0   NaN  2004       222200         0.355  ...    1    -4.360     1   \n",
       "1   NaN  2006       258613         0.409  ...    2    -4.373     1   \n",
       "\n",
       "   speechiness  acousticness  instrumentalness  liveness  valence    tempo  \\\n",
       "0       0.0746      0.001190               0.0    0.0971    0.240  148.114   \n",
       "1       0.0336      0.000807               0.0    0.2070    0.651  174.426   \n",
       "\n",
       "   time_signature  \n",
       "0               4  \n",
       "1               4  \n",
       "\n",
       "[2 rows x 21 columns]"
      ]
     },
     "execution_count": 4,
     "metadata": {},
     "output_type": "execute_result"
    }
   ],
   "source": [
    "pd.set_option('display.max_colwidth', None)\n",
    "music.head(2)"
   ]
  },
  {
   "cell_type": "code",
   "execution_count": 5,
   "metadata": {},
   "outputs": [
    {
     "data": {
      "text/html": [
       "<div>\n",
       "<style scoped>\n",
       "    .dataframe tbody tr th:only-of-type {\n",
       "        vertical-align: middle;\n",
       "    }\n",
       "\n",
       "    .dataframe tbody tr th {\n",
       "        vertical-align: top;\n",
       "    }\n",
       "\n",
       "    .dataframe thead th {\n",
       "        text-align: right;\n",
       "    }\n",
       "</style>\n",
       "<table border=\"1\" class=\"dataframe\">\n",
       "  <thead>\n",
       "    <tr style=\"text-align: right;\">\n",
       "      <th></th>\n",
       "      <th>tags</th>\n",
       "      <th>genre</th>\n",
       "    </tr>\n",
       "  </thead>\n",
       "  <tbody>\n",
       "    <tr>\n",
       "      <th>26515</th>\n",
       "      <td>progressive_metal, doom_metal, gothic_metal</td>\n",
       "      <td>NaN</td>\n",
       "    </tr>\n",
       "    <tr>\n",
       "      <th>45685</th>\n",
       "      <td>electronic, instrumental, chillout, soundtrack, new_age</td>\n",
       "      <td>NaN</td>\n",
       "    </tr>\n",
       "  </tbody>\n",
       "</table>\n",
       "</div>"
      ],
      "text/plain": [
       "                                                          tags genre\n",
       "26515              progressive_metal, doom_metal, gothic_metal   NaN\n",
       "45685  electronic, instrumental, chillout, soundtrack, new_age   NaN"
      ]
     },
     "execution_count": 5,
     "metadata": {},
     "output_type": "execute_result"
    }
   ],
   "source": [
    "pd.set_option('display.max_colwidth', None)\n",
    "music.sample(2)[['tags','genre']]"
   ]
  },
  {
   "cell_type": "code",
   "execution_count": 6,
   "metadata": {},
   "outputs": [
    {
     "data": {
      "text/plain": [
       "(50683, 21)"
      ]
     },
     "execution_count": 6,
     "metadata": {},
     "output_type": "execute_result"
    }
   ],
   "source": [
    "music.shape"
   ]
  },
  {
   "cell_type": "code",
   "execution_count": 7,
   "metadata": {},
   "outputs": [
    {
     "data": {
      "text/plain": [
       "track_id                0.000000\n",
       "name                    0.000000\n",
       "artist                  0.000000\n",
       "spotify_preview_url     0.000000\n",
       "spotify_id              0.000000\n",
       "tags                    2.223625\n",
       "genre                  55.906320\n",
       "year                    0.000000\n",
       "duration_ms             0.000000\n",
       "danceability            0.000000\n",
       "energy                  0.000000\n",
       "key                     0.000000\n",
       "loudness                0.000000\n",
       "mode                    0.000000\n",
       "speechiness             0.000000\n",
       "acousticness            0.000000\n",
       "instrumentalness        0.000000\n",
       "liveness                0.000000\n",
       "valence                 0.000000\n",
       "tempo                   0.000000\n",
       "time_signature          0.000000\n",
       "dtype: float64"
      ]
     },
     "execution_count": 7,
     "metadata": {},
     "output_type": "execute_result"
    }
   ],
   "source": [
    "(music.isnull().sum()/music.shape[0])*100"
   ]
  },
  {
   "cell_type": "code",
   "execution_count": 8,
   "metadata": {},
   "outputs": [
    {
     "data": {
      "text/plain": [
       "track_id               0\n",
       "name                   0\n",
       "artist                 0\n",
       "spotify_preview_url    0\n",
       "spotify_id             0\n",
       "tags                   0\n",
       "genre                  0\n",
       "year                   0\n",
       "duration_ms            0\n",
       "danceability           0\n",
       "energy                 0\n",
       "key                    0\n",
       "loudness               0\n",
       "mode                   0\n",
       "speechiness            0\n",
       "acousticness           0\n",
       "instrumentalness       0\n",
       "liveness               0\n",
       "valence                0\n",
       "tempo                  0\n",
       "time_signature         0\n",
       "dtype: int64"
      ]
     },
     "execution_count": 8,
     "metadata": {},
     "output_type": "execute_result"
    }
   ],
   "source": [
    "# fill missing value by forward fill\n",
    "music['tags'].fillna(method='ffill', inplace=True)\n",
    "music['genre'].fillna(method='bfill', inplace=True)\n",
    "\n",
    "music.isnull().sum()"
   ]
  },
  {
   "cell_type": "code",
   "execution_count": 9,
   "metadata": {},
   "outputs": [
    {
     "data": {
      "text/html": [
       "<div>\n",
       "<style scoped>\n",
       "    .dataframe tbody tr th:only-of-type {\n",
       "        vertical-align: middle;\n",
       "    }\n",
       "\n",
       "    .dataframe tbody tr th {\n",
       "        vertical-align: top;\n",
       "    }\n",
       "\n",
       "    .dataframe thead th {\n",
       "        text-align: right;\n",
       "    }\n",
       "</style>\n",
       "<table border=\"1\" class=\"dataframe\">\n",
       "  <thead>\n",
       "    <tr style=\"text-align: right;\">\n",
       "      <th></th>\n",
       "      <th>track_id</th>\n",
       "      <th>name</th>\n",
       "      <th>artist</th>\n",
       "      <th>spotify_preview_url</th>\n",
       "      <th>spotify_id</th>\n",
       "      <th>tags</th>\n",
       "      <th>genre</th>\n",
       "      <th>year</th>\n",
       "      <th>duration_ms</th>\n",
       "      <th>danceability</th>\n",
       "      <th>...</th>\n",
       "      <th>key</th>\n",
       "      <th>loudness</th>\n",
       "      <th>mode</th>\n",
       "      <th>speechiness</th>\n",
       "      <th>acousticness</th>\n",
       "      <th>instrumentalness</th>\n",
       "      <th>liveness</th>\n",
       "      <th>valence</th>\n",
       "      <th>tempo</th>\n",
       "      <th>time_signature</th>\n",
       "    </tr>\n",
       "  </thead>\n",
       "  <tbody>\n",
       "    <tr>\n",
       "      <th>18284</th>\n",
       "      <td>TRDPRQN128F933064C</td>\n",
       "      <td>The Looking Glass</td>\n",
       "      <td>Dream Theater</td>\n",
       "      <td>https://p.scdn.co/mp3-preview/0e58b7d56fdb49470e02fc51e147417d0a5f1824?cid=774b29d4f13844c495f206cafdad9c86</td>\n",
       "      <td>5l79BZlSp7p8rBiUAvtTLI</td>\n",
       "      <td>progressive_rock, progressive_metal</td>\n",
       "      <td>Rock</td>\n",
       "      <td>2013</td>\n",
       "      <td>293066</td>\n",
       "      <td>0.518</td>\n",
       "      <td>...</td>\n",
       "      <td>9</td>\n",
       "      <td>-3.972</td>\n",
       "      <td>1</td>\n",
       "      <td>0.0661</td>\n",
       "      <td>0.000037</td>\n",
       "      <td>0.000026</td>\n",
       "      <td>0.219</td>\n",
       "      <td>0.598</td>\n",
       "      <td>137.980</td>\n",
       "      <td>4</td>\n",
       "    </tr>\n",
       "    <tr>\n",
       "      <th>7162</th>\n",
       "      <td>TRPWQKH128F9306D12</td>\n",
       "      <td>Certainly</td>\n",
       "      <td>Erykah Badu</td>\n",
       "      <td>https://p.scdn.co/mp3-preview/f0199dbe6b33d01d227905c2139b3904860b34dc?cid=774b29d4f13844c495f206cafdad9c86</td>\n",
       "      <td>0ZpAK0kBE6YY9LOJsDWmyJ</td>\n",
       "      <td>female_vocalists, jazz, soul, rnb</td>\n",
       "      <td>Pop</td>\n",
       "      <td>1997</td>\n",
       "      <td>283226</td>\n",
       "      <td>0.717</td>\n",
       "      <td>...</td>\n",
       "      <td>7</td>\n",
       "      <td>-9.891</td>\n",
       "      <td>1</td>\n",
       "      <td>0.1930</td>\n",
       "      <td>0.077900</td>\n",
       "      <td>0.010900</td>\n",
       "      <td>0.244</td>\n",
       "      <td>0.179</td>\n",
       "      <td>71.074</td>\n",
       "      <td>4</td>\n",
       "    </tr>\n",
       "  </tbody>\n",
       "</table>\n",
       "<p>2 rows × 21 columns</p>\n",
       "</div>"
      ],
      "text/plain": [
       "                 track_id               name         artist  \\\n",
       "18284  TRDPRQN128F933064C  The Looking Glass  Dream Theater   \n",
       "7162   TRPWQKH128F9306D12          Certainly    Erykah Badu   \n",
       "\n",
       "                                                                                               spotify_preview_url  \\\n",
       "18284  https://p.scdn.co/mp3-preview/0e58b7d56fdb49470e02fc51e147417d0a5f1824?cid=774b29d4f13844c495f206cafdad9c86   \n",
       "7162   https://p.scdn.co/mp3-preview/f0199dbe6b33d01d227905c2139b3904860b34dc?cid=774b29d4f13844c495f206cafdad9c86   \n",
       "\n",
       "                   spotify_id                                 tags genre  \\\n",
       "18284  5l79BZlSp7p8rBiUAvtTLI  progressive_rock, progressive_metal  Rock   \n",
       "7162   0ZpAK0kBE6YY9LOJsDWmyJ    female_vocalists, jazz, soul, rnb   Pop   \n",
       "\n",
       "       year  duration_ms  danceability  ...  key  loudness  mode  speechiness  \\\n",
       "18284  2013       293066         0.518  ...    9    -3.972     1       0.0661   \n",
       "7162   1997       283226         0.717  ...    7    -9.891     1       0.1930   \n",
       "\n",
       "       acousticness  instrumentalness  liveness  valence    tempo  \\\n",
       "18284      0.000037          0.000026     0.219    0.598  137.980   \n",
       "7162       0.077900          0.010900     0.244    0.179   71.074   \n",
       "\n",
       "       time_signature  \n",
       "18284               4  \n",
       "7162                4  \n",
       "\n",
       "[2 rows x 21 columns]"
      ]
     },
     "execution_count": 9,
     "metadata": {},
     "output_type": "execute_result"
    }
   ],
   "source": [
    "music.sample(2)"
   ]
  },
  {
   "cell_type": "code",
   "execution_count": 10,
   "metadata": {},
   "outputs": [
    {
     "data": {
      "text/plain": [
       "(50683, 21)"
      ]
     },
     "execution_count": 10,
     "metadata": {},
     "output_type": "execute_result"
    }
   ],
   "source": [
    "music.shape"
   ]
  },
  {
   "cell_type": "code",
   "execution_count": 11,
   "metadata": {},
   "outputs": [
    {
     "data": {
      "text/plain": [
       "50683"
      ]
     },
     "execution_count": 11,
     "metadata": {},
     "output_type": "execute_result"
    }
   ],
   "source": [
    "music['name'].nunique()"
   ]
  },
  {
   "cell_type": "markdown",
   "metadata": {},
   "source": [
    "# **Created Reccomdation Model (with help of KNN)**"
   ]
  },
  {
   "cell_type": "code",
   "execution_count": 12,
   "metadata": {},
   "outputs": [
    {
     "data": {
      "text/plain": [
       "Index(['track_id', 'name', 'artist', 'spotify_preview_url', 'spotify_id',\n",
       "       'tags', 'genre', 'year', 'duration_ms', 'danceability', 'energy', 'key',\n",
       "       'loudness', 'mode', 'speechiness', 'acousticness', 'instrumentalness',\n",
       "       'liveness', 'valence', 'tempo', 'time_signature'],\n",
       "      dtype='object')"
      ]
     },
     "execution_count": 12,
     "metadata": {},
     "output_type": "execute_result"
    }
   ],
   "source": [
    "music.columns\n",
    "# ['name', 'artist','tags', 'genre', 'year', 'duration_ms', 'danceability', 'energy', 'key','loudness', 'mode', 'speechiness', 'acousticness', \n",
    "#                'instrumentalness','liveness', 'valence', 'tempo', 'time_signature']\n",
    "\n",
    "#-----------------------------------#\n",
    "# [['name', 'artist','tags', 'genre', 'energy','loudness', 'acousticness', 'liveness', 'valence', 'tempo', 'time_signature']]"
   ]
  },
  {
   "cell_type": "code",
   "execution_count": 13,
   "metadata": {},
   "outputs": [],
   "source": [
    "from sklearn.preprocessing import LabelEncoder, StandardScaler\n",
    "\n",
    "songs = music[['name', 'artist','tags', 'genre', 'energy','loudness','valence', 'tempo']]\n",
    "data = music[['name', 'artist','tags', 'genre', 'energy','loudness','valence', 'tempo']]\n",
    "\n",
    "# encoding with label\n",
    "label = LabelEncoder()\n",
    "label_data = data.apply(label.fit_transform)\n",
    "\n",
    "#standarding the value\n",
    "stand = StandardScaler()\n",
    "stand_data  = stand.fit_transform(label_data)\n"
   ]
  },
  {
   "cell_type": "code",
   "execution_count": 14,
   "metadata": {},
   "outputs": [
    {
     "data": {
      "text/html": [
       "<div>\n",
       "<style scoped>\n",
       "    .dataframe tbody tr th:only-of-type {\n",
       "        vertical-align: middle;\n",
       "    }\n",
       "\n",
       "    .dataframe tbody tr th {\n",
       "        vertical-align: top;\n",
       "    }\n",
       "\n",
       "    .dataframe thead th {\n",
       "        text-align: right;\n",
       "    }\n",
       "</style>\n",
       "<table border=\"1\" class=\"dataframe\">\n",
       "  <thead>\n",
       "    <tr style=\"text-align: right;\">\n",
       "      <th></th>\n",
       "      <th>name</th>\n",
       "      <th>artist</th>\n",
       "      <th>tags</th>\n",
       "      <th>genre</th>\n",
       "      <th>energy</th>\n",
       "      <th>loudness</th>\n",
       "      <th>valence</th>\n",
       "      <th>tempo</th>\n",
       "    </tr>\n",
       "  </thead>\n",
       "  <tbody>\n",
       "    <tr>\n",
       "      <th>0</th>\n",
       "      <td>0.176339</td>\n",
       "      <td>1.263570</td>\n",
       "      <td>0.847271</td>\n",
       "      <td>0.720337</td>\n",
       "      <td>0.877182</td>\n",
       "      <td>0.992761</td>\n",
       "      <td>-0.467338</td>\n",
       "      <td>1.007711</td>\n",
       "    </tr>\n",
       "    <tr>\n",
       "      <th>1</th>\n",
       "      <td>1.645624</td>\n",
       "      <td>0.463311</td>\n",
       "      <td>0.960002</td>\n",
       "      <td>0.720337</td>\n",
       "      <td>0.781099</td>\n",
       "      <td>0.989150</td>\n",
       "      <td>0.763913</td>\n",
       "      <td>1.570995</td>\n",
       "    </tr>\n",
       "    <tr>\n",
       "      <th>2</th>\n",
       "      <td>-1.154473</td>\n",
       "      <td>0.435361</td>\n",
       "      <td>0.701551</td>\n",
       "      <td>0.720337</td>\n",
       "      <td>0.537197</td>\n",
       "      <td>0.598657</td>\n",
       "      <td>0.440372</td>\n",
       "      <td>-0.080445</td>\n",
       "    </tr>\n",
       "    <tr>\n",
       "      <th>3</th>\n",
       "      <td>1.038349</td>\n",
       "      <td>-0.601235</td>\n",
       "      <td>0.858915</td>\n",
       "      <td>0.720337</td>\n",
       "      <td>-0.061474</td>\n",
       "      <td>-0.245654</td>\n",
       "      <td>0.281598</td>\n",
       "      <td>-0.705448</td>\n",
       "    </tr>\n",
       "    <tr>\n",
       "      <th>4</th>\n",
       "      <td>-1.112712</td>\n",
       "      <td>0.659779</td>\n",
       "      <td>0.859797</td>\n",
       "      <td>0.720337</td>\n",
       "      <td>-0.926220</td>\n",
       "      <td>-0.536997</td>\n",
       "      <td>-0.874760</td>\n",
       "      <td>-1.201640</td>\n",
       "    </tr>\n",
       "    <tr>\n",
       "      <th>...</th>\n",
       "      <td>...</td>\n",
       "      <td>...</td>\n",
       "      <td>...</td>\n",
       "      <td>...</td>\n",
       "      <td>...</td>\n",
       "      <td>...</td>\n",
       "      <td>...</td>\n",
       "      <td>...</td>\n",
       "    </tr>\n",
       "    <tr>\n",
       "      <th>50678</th>\n",
       "      <td>0.667012</td>\n",
       "      <td>1.708706</td>\n",
       "      <td>-1.443682</td>\n",
       "      <td>-1.483052</td>\n",
       "      <td>0.932615</td>\n",
       "      <td>1.347983</td>\n",
       "      <td>0.074891</td>\n",
       "      <td>1.395564</td>\n",
       "    </tr>\n",
       "    <tr>\n",
       "      <th>50679</th>\n",
       "      <td>-1.163426</td>\n",
       "      <td>-1.656738</td>\n",
       "      <td>1.132008</td>\n",
       "      <td>-1.483052</td>\n",
       "      <td>0.045695</td>\n",
       "      <td>0.313702</td>\n",
       "      <td>0.161768</td>\n",
       "      <td>1.818280</td>\n",
       "    </tr>\n",
       "    <tr>\n",
       "      <th>50680</th>\n",
       "      <td>1.229109</td>\n",
       "      <td>1.685689</td>\n",
       "      <td>0.288029</td>\n",
       "      <td>-1.483052</td>\n",
       "      <td>1.087826</td>\n",
       "      <td>1.340206</td>\n",
       "      <td>-0.341517</td>\n",
       "      <td>1.230471</td>\n",
       "    </tr>\n",
       "    <tr>\n",
       "      <th>50681</th>\n",
       "      <td>-0.145650</td>\n",
       "      <td>1.708706</td>\n",
       "      <td>0.288029</td>\n",
       "      <td>-1.483052</td>\n",
       "      <td>0.818054</td>\n",
       "      <td>1.116630</td>\n",
       "      <td>0.665053</td>\n",
       "      <td>-0.499208</td>\n",
       "    </tr>\n",
       "    <tr>\n",
       "      <th>50682</th>\n",
       "      <td>-0.491083</td>\n",
       "      <td>-1.673590</td>\n",
       "      <td>1.548000</td>\n",
       "      <td>-1.483052</td>\n",
       "      <td>1.006525</td>\n",
       "      <td>1.052751</td>\n",
       "      <td>-0.772904</td>\n",
       "      <td>0.617224</td>\n",
       "    </tr>\n",
       "  </tbody>\n",
       "</table>\n",
       "<p>50683 rows × 8 columns</p>\n",
       "</div>"
      ],
      "text/plain": [
       "           name    artist      tags     genre    energy  loudness   valence  \\\n",
       "0      0.176339  1.263570  0.847271  0.720337  0.877182  0.992761 -0.467338   \n",
       "1      1.645624  0.463311  0.960002  0.720337  0.781099  0.989150  0.763913   \n",
       "2     -1.154473  0.435361  0.701551  0.720337  0.537197  0.598657  0.440372   \n",
       "3      1.038349 -0.601235  0.858915  0.720337 -0.061474 -0.245654  0.281598   \n",
       "4     -1.112712  0.659779  0.859797  0.720337 -0.926220 -0.536997 -0.874760   \n",
       "...         ...       ...       ...       ...       ...       ...       ...   \n",
       "50678  0.667012  1.708706 -1.443682 -1.483052  0.932615  1.347983  0.074891   \n",
       "50679 -1.163426 -1.656738  1.132008 -1.483052  0.045695  0.313702  0.161768   \n",
       "50680  1.229109  1.685689  0.288029 -1.483052  1.087826  1.340206 -0.341517   \n",
       "50681 -0.145650  1.708706  0.288029 -1.483052  0.818054  1.116630  0.665053   \n",
       "50682 -0.491083 -1.673590  1.548000 -1.483052  1.006525  1.052751 -0.772904   \n",
       "\n",
       "          tempo  \n",
       "0      1.007711  \n",
       "1      1.570995  \n",
       "2     -0.080445  \n",
       "3     -0.705448  \n",
       "4     -1.201640  \n",
       "...         ...  \n",
       "50678  1.395564  \n",
       "50679  1.818280  \n",
       "50680  1.230471  \n",
       "50681 -0.499208  \n",
       "50682  0.617224  \n",
       "\n",
       "[50683 rows x 8 columns]"
      ]
     },
     "execution_count": 14,
     "metadata": {},
     "output_type": "execute_result"
    }
   ],
   "source": [
    "data = pd.DataFrame(stand_data, columns = data.columns)\n",
    "data"
   ]
  },
  {
   "cell_type": "code",
   "execution_count": 15,
   "metadata": {},
   "outputs": [
    {
     "data": {
      "text/html": [
       "<div>\n",
       "<style scoped>\n",
       "    .dataframe tbody tr th:only-of-type {\n",
       "        vertical-align: middle;\n",
       "    }\n",
       "\n",
       "    .dataframe tbody tr th {\n",
       "        vertical-align: top;\n",
       "    }\n",
       "\n",
       "    .dataframe thead th {\n",
       "        text-align: right;\n",
       "    }\n",
       "</style>\n",
       "<table border=\"1\" class=\"dataframe\">\n",
       "  <thead>\n",
       "    <tr style=\"text-align: right;\">\n",
       "      <th></th>\n",
       "      <th>0</th>\n",
       "      <th>1</th>\n",
       "      <th>2</th>\n",
       "      <th>3</th>\n",
       "      <th>4</th>\n",
       "      <th>5</th>\n",
       "      <th>6</th>\n",
       "      <th>7</th>\n",
       "    </tr>\n",
       "  </thead>\n",
       "  <tbody>\n",
       "    <tr>\n",
       "      <th>0</th>\n",
       "      <td>1.0</td>\n",
       "      <td>0.004046</td>\n",
       "      <td>0.004364</td>\n",
       "      <td>0.005833</td>\n",
       "      <td>-0.003330</td>\n",
       "      <td>-0.001658</td>\n",
       "      <td>0.001128</td>\n",
       "      <td>0.001668</td>\n",
       "    </tr>\n",
       "    <tr>\n",
       "      <th>1</th>\n",
       "      <td>0.0</td>\n",
       "      <td>1.000000</td>\n",
       "      <td>0.060985</td>\n",
       "      <td>0.052753</td>\n",
       "      <td>0.014895</td>\n",
       "      <td>0.008778</td>\n",
       "      <td>0.049430</td>\n",
       "      <td>0.017800</td>\n",
       "    </tr>\n",
       "    <tr>\n",
       "      <th>2</th>\n",
       "      <td>0.0</td>\n",
       "      <td>0.000000</td>\n",
       "      <td>1.000000</td>\n",
       "      <td>0.243540</td>\n",
       "      <td>0.101776</td>\n",
       "      <td>0.132694</td>\n",
       "      <td>0.178731</td>\n",
       "      <td>0.022773</td>\n",
       "    </tr>\n",
       "    <tr>\n",
       "      <th>3</th>\n",
       "      <td>0.0</td>\n",
       "      <td>0.000000</td>\n",
       "      <td>0.000000</td>\n",
       "      <td>1.000000</td>\n",
       "      <td>0.038410</td>\n",
       "      <td>0.082408</td>\n",
       "      <td>0.104962</td>\n",
       "      <td>0.011902</td>\n",
       "    </tr>\n",
       "    <tr>\n",
       "      <th>4</th>\n",
       "      <td>0.0</td>\n",
       "      <td>0.000000</td>\n",
       "      <td>0.000000</td>\n",
       "      <td>0.000000</td>\n",
       "      <td>1.000000</td>\n",
       "      <td>0.785636</td>\n",
       "      <td>0.229157</td>\n",
       "      <td>0.226793</td>\n",
       "    </tr>\n",
       "    <tr>\n",
       "      <th>5</th>\n",
       "      <td>0.0</td>\n",
       "      <td>0.000000</td>\n",
       "      <td>0.000000</td>\n",
       "      <td>0.000000</td>\n",
       "      <td>0.000000</td>\n",
       "      <td>1.000000</td>\n",
       "      <td>0.193420</td>\n",
       "      <td>0.172660</td>\n",
       "    </tr>\n",
       "    <tr>\n",
       "      <th>6</th>\n",
       "      <td>0.0</td>\n",
       "      <td>0.000000</td>\n",
       "      <td>0.000000</td>\n",
       "      <td>0.000000</td>\n",
       "      <td>0.000000</td>\n",
       "      <td>0.000000</td>\n",
       "      <td>1.000000</td>\n",
       "      <td>0.087268</td>\n",
       "    </tr>\n",
       "    <tr>\n",
       "      <th>7</th>\n",
       "      <td>0.0</td>\n",
       "      <td>0.000000</td>\n",
       "      <td>0.000000</td>\n",
       "      <td>0.000000</td>\n",
       "      <td>0.000000</td>\n",
       "      <td>0.000000</td>\n",
       "      <td>0.000000</td>\n",
       "      <td>1.000000</td>\n",
       "    </tr>\n",
       "  </tbody>\n",
       "</table>\n",
       "</div>"
      ],
      "text/plain": [
       "     0         1         2         3         4         5         6         7\n",
       "0  1.0  0.004046  0.004364  0.005833 -0.003330 -0.001658  0.001128  0.001668\n",
       "1  0.0  1.000000  0.060985  0.052753  0.014895  0.008778  0.049430  0.017800\n",
       "2  0.0  0.000000  1.000000  0.243540  0.101776  0.132694  0.178731  0.022773\n",
       "3  0.0  0.000000  0.000000  1.000000  0.038410  0.082408  0.104962  0.011902\n",
       "4  0.0  0.000000  0.000000  0.000000  1.000000  0.785636  0.229157  0.226793\n",
       "5  0.0  0.000000  0.000000  0.000000  0.000000  1.000000  0.193420  0.172660\n",
       "6  0.0  0.000000  0.000000  0.000000  0.000000  0.000000  1.000000  0.087268\n",
       "7  0.0  0.000000  0.000000  0.000000  0.000000  0.000000  0.000000  1.000000"
      ]
     },
     "execution_count": 15,
     "metadata": {},
     "output_type": "execute_result"
    }
   ],
   "source": [
    "corr_data = data.corr()\n",
    "trg = np.triu(corr_data)\n",
    "trg = pd.DataFrame(trg)\n",
    "trg"
   ]
  },
  {
   "cell_type": "code",
   "execution_count": 16,
   "metadata": {},
   "outputs": [
    {
     "data": {
      "text/plain": [
       "['Use Somebody',\n",
       " 'Better Than Me',\n",
       " 'Nothing But Time',\n",
       " 'Running Out Of Time',\n",
       " 'This is Home',\n",
       " 'Jet Black',\n",
       " 'I Will Protect You']"
      ]
     },
     "execution_count": 16,
     "metadata": {},
     "output_type": "execute_result"
    }
   ],
   "source": [
    "# train model \n",
    "from sklearn.neighbors import NearestNeighbors\n",
    "\n",
    "feature = data[['artist','tags', 'genre', 'energy','loudness','valence', 'tempo']]\n",
    "\n",
    "knn = NearestNeighbors(n_neighbors=7, metric='euclidean')\n",
    "knn.fit(feature)\n",
    "\n",
    "\n",
    "# recommend songs for user\n",
    "def your_songs(song_no):\n",
    "    \n",
    "\t#find the song data\n",
    "\tdistances , indices = knn.kneighbors([feature.loc[song_no]])\n",
    "\n",
    "\t#recommding similarted to those songs\n",
    "\trecommend_songs = songs.iloc[indices[0][1:]]\n",
    "\n",
    "\t#song + recommeding songs\n",
    "\tsearch_song = songs.loc[song_no]['name']\n",
    "\tsong_name = recommend_songs['name'].to_list()\n",
    "\n",
    "\tsong_name.insert(0,search_song)\n",
    "\n",
    "\treturn song_name\n",
    "\n",
    "your_songs(23)"
   ]
  },
  {
   "cell_type": "code",
   "execution_count": null,
   "metadata": {},
   "outputs": [],
   "source": []
  },
  {
   "cell_type": "code",
   "execution_count": 17,
   "metadata": {},
   "outputs": [],
   "source": [
    "# save the model\n",
    "# import pickle \n",
    "# pickle.dump(knn, open('music_model.pkl', 'wb'))"
   ]
  },
  {
   "cell_type": "markdown",
   "metadata": {},
   "source": [
    "# **User**"
   ]
  },
  {
   "cell_type": "code",
   "execution_count": 25,
   "metadata": {},
   "outputs": [
    {
     "data": {
      "text/plain": [
       "name                   0\n",
       "artist                 0\n",
       "genre                  0\n",
       "spotify_preview_url    0\n",
       "dtype: int64"
      ]
     },
     "execution_count": 25,
     "metadata": {},
     "output_type": "execute_result"
    }
   ],
   "source": [
    "# user  = music[['artist','tags', 'genre', 'energy','loudness','valence', 'tempo']]\n",
    "user  = music[['name','artist','genre', 'spotify_preview_url']]\n",
    "user.isnull().sum()"
   ]
  },
  {
   "cell_type": "code",
   "execution_count": 26,
   "metadata": {},
   "outputs": [],
   "source": [
    "\n",
    "songs_artist =  music[['name','artist','genre', 'spotify_preview_url']]\n",
    "songs_artist.to_csv('songs_artist.csv', index=False)"
   ]
  },
  {
   "cell_type": "code",
   "execution_count": 24,
   "metadata": {},
   "outputs": [],
   "source": [
    "# feature.to_csv('feature_data.csv', index=False)"
   ]
  },
  {
   "cell_type": "code",
   "execution_count": null,
   "metadata": {},
   "outputs": [],
   "source": []
  }
 ],
 "metadata": {
  "kernelspec": {
   "display_name": "Python 3",
   "language": "python",
   "name": "python3"
  },
  "language_info": {
   "codemirror_mode": {
    "name": "ipython",
    "version": 3
   },
   "file_extension": ".py",
   "mimetype": "text/x-python",
   "name": "python",
   "nbconvert_exporter": "python",
   "pygments_lexer": "ipython3",
   "version": "3.10.4"
  }
 },
 "nbformat": 4,
 "nbformat_minor": 2
}
